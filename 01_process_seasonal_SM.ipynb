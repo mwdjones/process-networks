{
 "cells": [
  {
   "cell_type": "code",
   "execution_count": null,
   "metadata": {},
   "outputs": [],
   "source": [
    "'''Imports'''\n",
    "import numpy as np\n",
    "import pandas as pd \n",
    "import matplotlib.pyplot as plt\n",
    "import seaborn as sns\n",
    "import scipy\n",
    "\n",
    "load_path_seasonal = \"./mef-data/seasonal/\"\n",
    "\n",
    "drainablePorosity = 0.57 #bog porosity"
   ]
  },
  {
   "cell_type": "code",
   "execution_count": 5,
   "metadata": {},
   "outputs": [],
   "source": [
    "#Seasonal Soil Moisture\n",
    "soilMoist = pd.read_csv(load_path_seasonal + 'MEF_seasonal_soil_moisture.csv', skiprows=1, sep=\",\",\n",
    "                names = [\"DATE\", \"LOCATION\", \"d.15\", \"d.46\", \"d.76\", \"d.107\", \"d.137\", \"d.168\", \"d.198\", \"d.229\", \"d.259\", \"d.290\",  \"d.320\"],\n",
    "                parse_dates = ['DATE'])\n",
    "      \n",
    "bulkDens = pd.read_csv(load_path_seasonal + 'BulkDensity.csv', skiprows=1, sep=\",\",\n",
    "                names = [\"watershed\", \"LOCATION\", \"horizon\", \"horizonTop\", \"horizonBottom\", \"bulkDensity\",  \"H2O_1500kPa\"])\n"
   ]
  },
  {
   "cell_type": "code",
   "execution_count": 7,
   "metadata": {},
   "outputs": [],
   "source": [
    "#Convert Soil Moisture to PAW\n",
    "#Refine to S2 measurements\n",
    "sites = ['S2E', 'S2S']\n",
    "soilMoist_sel = soilMoist.loc[soilMoist.LOCATION.isin(sites)].reset_index()\n",
    "\n",
    "#Reformat Data\n",
    "soilMoist_melt = pd.melt(soilMoist_sel, id_vars = ['DATE', 'LOCATION'],\n",
    "                        value_vars = ['d.15', 'd.46', 'd.76', 'd.107', 'd.137', 'd.168', 'd.198', 'd.229', 'd.259', 'd.290', 'd.320'])\n",
    "soilMoist_melt.columns = ['DATE', 'LOCATION', 'DEPTH', 'VWC']\n",
    "\n",
    "#Reformat depths\n",
    "#soilMoist_melt['DEPTH_CM'] = [string[2:] for string in soilMoist_melt.DEPTH]\n",
    "\n",
    "#Transform to plant available water\n",
    "PAW = []\n",
    "for row_index, row in soilMoist_melt.iterrows():\n",
    "    #find row in bulk density frame for site and depth\n",
    "    bulkTemp = bulkDens[(bulkDens.LOCATION == row.LOCATION) & (bulkDens.horizon == row.DEPTH)].reset_index(drop = True)\n",
    "\n",
    "    #test if bulktemp is at least one row\n",
    "    if(len(bulkTemp.LOCATION) < 1):\n",
    "        PAW.append(np.nan)\n",
    "        \n",
    "    else:\n",
    "        #find depth of sample\n",
    "        dep = float(bulkTemp.horizonBottom - bulkTemp.horizonTop)\n",
    "        #print(dep)\n",
    "\n",
    "        #multiply depth by VWC\n",
    "        vol = float(row.VWC/100)*dep\n",
    "        \n",
    "        #subtract plant unavailable water\n",
    "        plw = float(vol-(bulkTemp.H2O_1500kPa))\n",
    "\n",
    "        #if below zero,  set to zero\n",
    "        if(plw < 0):\n",
    "            plw = 0\n",
    "\n",
    "        #record\n",
    "        PAW.append(plw)\n",
    "\n",
    "#PAW in cm\n",
    "soilMoist_melt['PAW'] = PAW\n",
    "\n",
    "#Add days \n",
    "soilMoist_melt['YEAR'] = soilMoist_melt.DATE.dt.year\n",
    "soilMoist_melt['MONTH'] = soilMoist_melt.DATE.dt.month\n",
    "soilMoist_melt['DOY'] = soilMoist_melt.DATE.dt.dayofyear\n",
    "\n",
    "#Sum down the water column for each site/sample\n",
    "soilMoist_avg = soilMoist_melt.groupby(['LOCATION', 'DATE', 'YEAR', 'MONTH', 'DOY'])['PAW'].sum().reset_index()"
   ]
  },
  {
   "cell_type": "code",
   "execution_count": 9,
   "metadata": {},
   "outputs": [],
   "source": [
    "soilMoist_avg.to_csv(load_path_seasonal + 'mef_seasonal_soil_moisture_processed.csv', index = False)"
   ]
  }
 ],
 "metadata": {
  "kernelspec": {
   "display_name": ".venv",
   "language": "python",
   "name": "python3"
  },
  "language_info": {
   "codemirror_mode": {
    "name": "ipython",
    "version": 3
   },
   "file_extension": ".py",
   "mimetype": "text/x-python",
   "name": "python",
   "nbconvert_exporter": "python",
   "pygments_lexer": "ipython3",
   "version": "3.11.0"
  }
 },
 "nbformat": 4,
 "nbformat_minor": 2
}
