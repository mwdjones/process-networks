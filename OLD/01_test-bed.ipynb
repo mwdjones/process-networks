{
 "cells": [
  {
   "cell_type": "code",
   "execution_count": 2,
   "metadata": {},
   "outputs": [],
   "source": [
    "import numpy as np\n",
    "import pandas as pd\n",
    "import seaborn as sns\n",
    "import matplotlib.pyplot as plt\n",
    "import random"
   ]
  },
  {
   "cell_type": "code",
   "execution_count": 3,
   "metadata": {},
   "outputs": [
    {
     "data": {
      "text/html": [
       "<div>\n",
       "<style scoped>\n",
       "    .dataframe tbody tr th:only-of-type {\n",
       "        vertical-align: middle;\n",
       "    }\n",
       "\n",
       "    .dataframe tbody tr th {\n",
       "        vertical-align: top;\n",
       "    }\n",
       "\n",
       "    .dataframe thead th {\n",
       "        text-align: right;\n",
       "    }\n",
       "</style>\n",
       "<table border=\"1\" class=\"dataframe\">\n",
       "  <thead>\n",
       "    <tr style=\"text-align: right;\">\n",
       "      <th></th>\n",
       "      <th>observed_Q</th>\n",
       "      <th>basin_ppt</th>\n",
       "      <th>basin_tmin</th>\n",
       "      <th>basin_tmax</th>\n",
       "      <th>model_Q</th>\n",
       "      <th>basin_soil_moist</th>\n",
       "      <th>basin_snowmelt</th>\n",
       "      <th>basin_actet</th>\n",
       "      <th>basin_potet</th>\n",
       "    </tr>\n",
       "  </thead>\n",
       "  <tbody>\n",
       "    <tr>\n",
       "      <th>0</th>\n",
       "      <td>0.0</td>\n",
       "      <td>0.0</td>\n",
       "      <td>255.68925</td>\n",
       "      <td>255.96611</td>\n",
       "      <td>-0.000003</td>\n",
       "      <td>1.010757</td>\n",
       "      <td>36.570500</td>\n",
       "      <td>0.0</td>\n",
       "      <td>0.0</td>\n",
       "    </tr>\n",
       "    <tr>\n",
       "      <th>1</th>\n",
       "      <td>0.0</td>\n",
       "      <td>0.0</td>\n",
       "      <td>263.14490</td>\n",
       "      <td>263.31420</td>\n",
       "      <td>-0.000003</td>\n",
       "      <td>1.010345</td>\n",
       "      <td>37.233820</td>\n",
       "      <td>0.0</td>\n",
       "      <td>0.0</td>\n",
       "    </tr>\n",
       "    <tr>\n",
       "      <th>2</th>\n",
       "      <td>0.0</td>\n",
       "      <td>0.0</td>\n",
       "      <td>257.18478</td>\n",
       "      <td>257.24280</td>\n",
       "      <td>-0.000003</td>\n",
       "      <td>1.006177</td>\n",
       "      <td>37.728703</td>\n",
       "      <td>0.0</td>\n",
       "      <td>0.0</td>\n",
       "    </tr>\n",
       "    <tr>\n",
       "      <th>3</th>\n",
       "      <td>0.0</td>\n",
       "      <td>0.0</td>\n",
       "      <td>265.92532</td>\n",
       "      <td>265.99603</td>\n",
       "      <td>-0.000003</td>\n",
       "      <td>1.004947</td>\n",
       "      <td>39.020004</td>\n",
       "      <td>0.0</td>\n",
       "      <td>0.0</td>\n",
       "    </tr>\n",
       "    <tr>\n",
       "      <th>4</th>\n",
       "      <td>0.0</td>\n",
       "      <td>0.0</td>\n",
       "      <td>249.01566</td>\n",
       "      <td>249.08228</td>\n",
       "      <td>-0.000003</td>\n",
       "      <td>0.999792</td>\n",
       "      <td>40.448044</td>\n",
       "      <td>0.0</td>\n",
       "      <td>0.0</td>\n",
       "    </tr>\n",
       "  </tbody>\n",
       "</table>\n",
       "</div>"
      ],
      "text/plain": [
       "   observed_Q  basin_ppt  basin_tmin  basin_tmax   model_Q  basin_soil_moist  \\\n",
       "0         0.0        0.0   255.68925   255.96611 -0.000003          1.010757   \n",
       "1         0.0        0.0   263.14490   263.31420 -0.000003          1.010345   \n",
       "2         0.0        0.0   257.18478   257.24280 -0.000003          1.006177   \n",
       "3         0.0        0.0   265.92532   265.99603 -0.000003          1.004947   \n",
       "4         0.0        0.0   249.01566   249.08228 -0.000003          0.999792   \n",
       "\n",
       "   basin_snowmelt  basin_actet  basin_potet  \n",
       "0       36.570500          0.0          0.0  \n",
       "1       37.233820          0.0          0.0  \n",
       "2       37.728703          0.0          0.0  \n",
       "3       39.020004          0.0          0.0  \n",
       "4       40.448044          0.0          0.0  "
      ]
     },
     "execution_count": 3,
     "metadata": {},
     "output_type": "execute_result"
    }
   ],
   "source": [
    "'''Import Data'''\n",
    "data = pd.read_csv('./test-data/clm-hillslope-data.csv', index_col = [0])\n",
    "\n",
    "data.head()"
   ]
  },
  {
   "cell_type": "code",
   "execution_count": null,
   "metadata": {},
   "outputs": [],
   "source": [
    "'''Distribution plots'''\n",
    "fig, axs = plt.subplots(3, 3, figsize = (8, 8), \n",
    "                    layout = 'tight')\n",
    "\n",
    "for i in range(0, 9):\n",
    "    ax = axs.ravel()[i]\n",
    "\n",
    "    sns.histplot(x = data.iloc[:, i], bins = 15, kde = True, ax = ax)"
   ]
  },
  {
   "cell_type": "code",
   "execution_count": 50,
   "metadata": {},
   "outputs": [],
   "source": [
    "'''Functions'''\n",
    "\n",
    "#Generate probability distribution\n",
    "def pdf(dat, bins = 15):\n",
    "    #dat - data for which the pdf is to be derived\n",
    "    #bins - number of histogram bins, bins are generally set to 15 given the results of\n",
    "    #  optimization methods described in Ruddell & Kumar 2009\n",
    "    hist, _ = np.histogram(dat,  bins = bins)\n",
    "    n = len(dat)\n",
    "    return hist/n\n",
    "\n",
    "#Joint probability distribution\n",
    "def jpdf(dats, bins = 15):\n",
    "    #dats - columns of data for which the pdf is to be derived\n",
    "    #bins - number of histogram bins, bins are generally set to 15 given the results of\n",
    "    #  optimization methods described in Ruddell & Kumar 2009\n",
    "    hist, _ = np.histogramdd(np.array(dats), bins = bins)\n",
    "    return hist/hist.sum()\n",
    "\n",
    "#Calculate Entropy\n",
    "def entropy(dat):\n",
    "    #dat - data for which the entropy is to be calculated\n",
    "    probs = pdf(dat)\n",
    "    h = -np.nansum([p*np.log2(p) for p in probs])\n",
    "    return h\n",
    "\n",
    "#Calculate Joint Entropy\n",
    "def jentropy(dats):\n",
    "    #dat - data for which the entropy is to be calculated\n",
    "    probs = jpdf(dats)\n",
    "    h = -np.nansum(np.nansum([p*np.log2(p) for p in probs]))\n",
    "    return h\n",
    "\n",
    "#Calculate Mutual Information\n",
    "def mi(dats):\n",
    "    #dats - two column data to compute mutual information\n",
    "    return entropy(np.array(dats.iloc[:, 0])) + entropy(np.array(dats.iloc[:, 1])) - jentropy(np.array(dats))\n",
    "\n",
    "\n",
    "#Calculate transfer entropy\n",
    "def te(x, y, lag = 1):\n",
    "    #x - x data to be used for the transfer entropy computation\n",
    "    #y - y data to be used for the transfer entropy computation\n",
    "    #lag - temporal lag that will be used to shift the X series\n",
    "\n",
    "    #X_(t - \\tau\\delta_t)\n",
    "    shiftedX = list(x[: len(x) - lag])\n",
    "    #Y_(t - \\delta_t)\n",
    "    shiftedY = list(y[lag - 1 : len(x) - 1])\n",
    "    #cut y\n",
    "    cutY = list(y[lag:])\n",
    "    \n",
    "    #Check lengths are the same\n",
    "    if((len(shiftedX) != len(shiftedY)) or(len(shiftedY) != len(cutY))):\n",
    "        return \"Lengths not equal, something went wrong\"\n",
    "    else:\n",
    "        p1 = pd.DataFrame([shiftedX, shiftedY]).T\n",
    "        p2 = pd.DataFrame([cutY, shiftedY]).T\n",
    "        p3 = shiftedY\n",
    "        p4 = pd.DataFrame([shiftedX, cutY, shiftedY]).T\n",
    "        return jentropy(p1) + jentropy(p2) - entropy(p3) - jentropy(p4)\n",
    "    \n",
    "#Transfer Entropy with Significance Test\n",
    "def te_test(x, y, lag = 1, n = 100, alpha = 0.05):\n",
    "    #x - x data to be used for the transfer entropy computation\n",
    "    #y - y data to be used for the transfer entropy computation\n",
    "    #lag - temporal lag that will be used to shift the X series\n",
    "    #n - number of MCMC iterations to run\n",
    "\n",
    "    #testable te\n",
    "    t = te(x, y, lag = lag)\n",
    "    \n",
    "    #randomly scramble data\n",
    "    tss = []\n",
    "    for i in range(0, n):\n",
    "        #compute shuffled transfer entropy\n",
    "        xss = random.sample(list(x), len(x))\n",
    "        yss = random.sample(list(y), len(y))\n",
    "        tss.append(te(xss, yss, lag = lag))\n",
    "\n",
    "    #fit gaussian\n",
    "    mean = np.mean(tss)\n",
    "    sd = np.std(tss)\n",
    "\n",
    "    #test\n",
    "    if(alpha == 0.01):\n",
    "        Tz = mean + 2.36*sd\n",
    "    elif(alpha == 0.05):\n",
    "        Tz = mean + 1.66*sd\n",
    "    else:\n",
    "        return \"Only capable of computing 95% (alpha = 0.05) and 99% (alpha = 0.01) one tail distributions.\"\n",
    "    \n",
    "    return t, Tz, t > Tz"
   ]
  },
  {
   "cell_type": "code",
   "execution_count": 51,
   "metadata": {},
   "outputs": [
    {
     "name": "stderr",
     "output_type": "stream",
     "text": [
      "<ipython-input-50-e42e6ca3ccb6>:31: RuntimeWarning: divide by zero encountered in log2\n",
      "  h = -np.nansum(np.nansum([p*np.log2(p) for p in probs]))\n",
      "<ipython-input-50-e42e6ca3ccb6>:31: RuntimeWarning: invalid value encountered in multiply\n",
      "  h = -np.nansum(np.nansum([p*np.log2(p) for p in probs]))\n",
      "<ipython-input-50-e42e6ca3ccb6>:24: RuntimeWarning: divide by zero encountered in log2\n",
      "  h = -np.nansum([p*np.log2(p) for p in probs])\n",
      "<ipython-input-50-e42e6ca3ccb6>:24: RuntimeWarning: invalid value encountered in double_scalars\n",
      "  h = -np.nansum([p*np.log2(p) for p in probs])\n"
     ]
    }
   ],
   "source": [
    "#Test\n",
    "t = []\n",
    "tz = []\n",
    "sig = []\n",
    "lags = range(1, 10)\n",
    "\n",
    "for l in lags:\n",
    "    a, b, c = te_test(data.iloc[:, 1], data.iloc[:, 5], lag = l)\n",
    "    t.append(a)\n",
    "    tz.append(b)\n",
    "    sig.append(c)"
   ]
  },
  {
   "cell_type": "code",
   "execution_count": 52,
   "metadata": {},
   "outputs": [],
   "source": [
    "te_data = pd.DataFrame({\"t\" : t ,\n",
    "                        \"tz\" : tz,\n",
    "                        \"significance\" : sig, \n",
    "                        \"delay\" : lags})"
   ]
  },
  {
   "cell_type": "code",
   "execution_count": 53,
   "metadata": {},
   "outputs": [
    {
     "data": {
      "text/plain": [
       "Text(0, 0.5, 'Transfer Entropy')"
      ]
     },
     "execution_count": 53,
     "metadata": {},
     "output_type": "execute_result"
    },
    {
     "data": {
      "image/png": "[encoded data removed]",
      "text/plain": [
       "<Figure size 360x216 with 1 Axes>"
      ]
     },
     "metadata": {
      "needs_background": "light"
     },
     "output_type": "display_data"
    }
   ],
   "source": [
    "fig, ax = plt.subplots(1, 1, figsize = (5, 3))\n",
    "\n",
    "sns.lineplot(data = te_data, x = 'delay', y = 't', label = 'TE', ax = ax)\n",
    "sns.lineplot(data = te_data, x = 'delay', y = 'tz', linestyle = '--', label = r'$TE_z$', ax = ax)\n",
    "\n",
    "ax.legend(bbox_to_anchor = (1, 1))\n",
    "ax.set_xlim(min(lags), max(lags))\n",
    "ax.set_xlabel('Delay, days')\n",
    "ax.set_ylabel('Transfer Entropy')"
   ]
  },
  {
   "cell_type": "code",
   "execution_count": null,
   "metadata": {},
   "outputs": [],
   "source": []
  }
 ],
 "metadata": {
  "kernelspec": {
   "display_name": "networks",
   "language": "python",
   "name": "networks"
  },
  "language_info": {
   "codemirror_mode": {
    "name": "ipython",
    "version": 3
   },
   "file_extension": ".py",
   "mimetype": "text/x-python",
   "name": "python",
   "nbconvert_exporter": "python",
   "pygments_lexer": "ipython3",
   "version": "3.8.3"
  }
 },
 "nbformat": 4,
 "nbformat_minor": 2
}
